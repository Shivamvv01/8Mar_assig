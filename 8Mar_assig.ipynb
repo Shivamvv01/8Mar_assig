{
 "cells": [
  {
   "cell_type": "markdown",
   "id": "f3a7c749-454d-4147-82bb-dab06d177323",
   "metadata": {},
   "source": [
    "Q1. What is the Probability density function?"
   ]
  },
  {
   "cell_type": "markdown",
   "id": "e951e88f-48c2-4dc7-8eb1-07aa8701f3ed",
   "metadata": {},
   "source": [
    "The probability density function (PDF) is a concept in probability theory and statistics that describes the likelihood of a continuous random variable taking on a specific value or falling within a certain range of values.\n",
    "\n",
    "For a continuous random variable, the PDF is a function that defines the relative likelihood of different values. It is often denoted as f(x) or p(x), where x represents the random variable. The PDF provides information about the distribution of the random variable by specifying the probability of the variable taking on various values.\n",
    "\n",
    "The PDF has the following properties:\n",
    "\n",
    "Non-negative values: The PDF is always non-negative, meaning that f(x) ≥ 0 for all values of x.\n",
    "\n",
    "Area under the curve: The total area under the PDF curve over its entire range is equal to 1. This reflects the fact that the probability of the random variable taking on any possible value is 1.\n",
    "\n",
    "To calculate the probability of a continuous random variable falling within a specific range, you integrate the PDF over that range. The integral of the PDF within a given interval gives the probability of the random variable falling within that interval.\n",
    "\n",
    "It's important to note that the PDF is specific to continuous random variables. For discrete random variables, the probability distribution is typically described using a probability mass function (PMF), which assigns probabilities to individual values rather than ranges of values."
   ]
  },
  {
   "cell_type": "markdown",
   "id": "63d0f87e-b48a-4af5-9260-131014d57663",
   "metadata": {},
   "source": [
    "Q2. What are the types of Probability distribution?"
   ]
  },
  {
   "cell_type": "markdown",
   "id": "5e4d9c2d-71d2-4033-b61d-b3f23bf8abf2",
   "metadata": {},
   "source": [
    "There are several types of probability distributions, each with its own characteristics and applications. Here are some commonly encountered types:\n",
    "\n",
    "Uniform Distribution: In a uniform distribution, all outcomes within a given range are equally likely. The probability density function (PDF) is constant over the range of possible values. Examples include rolling a fair die or selecting a random number from a continuous interval.\n",
    "\n",
    "Normal Distribution (Gaussian Distribution): The normal distribution is one of the most widely used distributions in statistics. It is characterized by its bell-shaped curve. The PDF is symmetric, with the mean, median, and mode all coinciding at the center. Many natural phenomena follow a normal distribution, such as heights, weights, and measurement errors.\n",
    "\n",
    "Binomial Distribution: The binomial distribution describes the probability of obtaining a certain number of successes in a fixed number of independent Bernoulli trials (experiments with two possible outcomes, often referred to as success and failure). The PDF of the binomial distribution gives the probability of getting each possible number of successes. It is often used to model situations involving yes/no outcomes or counting the number of successes in a fixed number of trials.\n",
    "\n",
    "Poisson Distribution: The Poisson distribution is used to model the probability of a certain number of events occurring within a fixed interval of time or space. It is often used for rare events that occur independently. The Poisson distribution has a single parameter, λ (lambda), which represents the average rate of event occurrences. The PDF of the Poisson distribution gives the probability of obtaining each possible count.\n",
    "\n",
    "Exponential Distribution: The exponential distribution is a continuous probability distribution that models the time between events in a Poisson process (a process with a constant rate of events occurring independently). It is often used to describe the time until the next event or the survival time of certain systems. The PDF of the exponential distribution is characterized by a decaying exponential curve.\n",
    "\n",
    "Chi-Square Distribution: The chi-square distribution arises in various statistical tests, such as the chi-square test for independence and goodness-of-fit tests. It is defined by a parameter called degrees of freedom. The PDF of the chi-square distribution is positively skewed and assumes only non-negative values.\n",
    "\n",
    "These are just a few examples of probability distributions. There are many other distributions, such as the gamma distribution, beta distribution, t-distribution, and more, each with its own characteristics and applications in different fields of study."
   ]
  },
  {
   "cell_type": "markdown",
   "id": "2ef2f694-a474-4301-be94-de551b794501",
   "metadata": {},
   "source": [
    "Q3. Write a Python function to calculate the probability density function of a normal distribution with\n",
    "given mean and standard deviation at a given point."
   ]
  },
  {
   "cell_type": "code",
   "execution_count": 1,
   "id": "70396916-a243-47bb-9397-fa68ce0d0311",
   "metadata": {},
   "outputs": [],
   "source": [
    "import math \n",
    "import scipy.stats\n",
    "def normal_pdf(x,mean,std_dev):\n",
    "    pdf_value = scipy.stats.norm.pdf(x, loc=mean, scale=std_dev)\n",
    "    return pdf_value"
   ]
  },
  {
   "cell_type": "markdown",
   "id": "d3bdb147-1b2e-45b2-9b2e-9631bbf03609",
   "metadata": {},
   "source": [
    "In this function, x represents the point at which you want to calculate the PDF, mean is the mean of the normal distribution, and std_dev is the standard deviation.\n",
    "\n",
    "To use this function, simply call it and provide the required parameters. Here's an example:"
   ]
  },
  {
   "cell_type": "code",
   "execution_count": 2,
   "id": "bfc720c7-c6b6-430c-b7ad-0c2b42d46474",
   "metadata": {},
   "outputs": [],
   "source": [
    "mean=3\n",
    "std_dev=2\n",
    "x=4\n",
    "pdf_value=normal_pdf(x,mean,std_dev)"
   ]
  },
  {
   "cell_type": "code",
   "execution_count": 3,
   "id": "99257032-aba6-4db2-acc7-8d16180b25f7",
   "metadata": {},
   "outputs": [
    {
     "data": {
      "text/plain": [
       "0.17603266338214976"
      ]
     },
     "execution_count": 3,
     "metadata": {},
     "output_type": "execute_result"
    }
   ],
   "source": [
    "pdf_value"
   ]
  },
  {
   "cell_type": "markdown",
   "id": "bde2d861-bf0e-491f-b52b-783aade21efc",
   "metadata": {},
   "source": [
    "Q4. What are the properties of Binomial distribution? Give two examples of events where binomial\n",
    "distribution can be applied."
   ]
  },
  {
   "cell_type": "markdown",
   "id": "0d53c2a3-f8cb-4869-907a-0325731ee279",
   "metadata": {},
   "source": [
    "The binomial distribution is a discrete probability distribution that describes the number of successes in a fixed number of independent Bernoulli trials. It has the following properties:\n",
    "\n",
    "Fixed number of trials: The binomial distribution is applicable when there is a fixed number of trials, denoted as n. Each trial is independent and has only two possible outcomes: success or failure.\n",
    "\n",
    "Constant probability of success: The probability of success in each trial remains constant. This probability is denoted as p.\n",
    "\n",
    "Independent trials: Each trial is independent of the others, meaning the outcome of one trial does not affect the outcomes of the other trials.\n",
    "\n",
    "Discrete outcomes: The binomial distribution deals with discrete outcomes, which are the number of successes (ranging from 0 to n) in the fixed number of trials.\n",
    "\n",
    "Examples of events where the binomial distribution can be applied are:\n",
    "\n",
    "Coin Flips: Consider flipping a fair coin 10 times and counting the number of heads obtained. Each flip is a Bernoulli trial with two possible outcomes: heads or tails. The probability of getting heads in each flip is 0.5, and the number of heads obtained in 10 flips follows a binomial distribution.\n",
    "\n",
    "Product Defects: Suppose a factory produces a large number of items, and each item has a probability of being defective. We can define a success as an item being defective. The binomial distribution can be used to model the number of defective items in a sample of fixed size, assuming the probability of each item being defective is constant.\n",
    "\n",
    "In both of these examples, we have a fixed number of independent trials with two possible outcomes (success or failure), and we are interested in the number of successes (e.g., number of heads, number of defective items). The binomial distribution provides a way to calculate the probabilities associated with different numbers of successes in these scenarios."
   ]
  },
  {
   "cell_type": "markdown",
   "id": "bb17060f-06ac-4e67-8c20-d3afb2fff936",
   "metadata": {},
   "source": [
    "Q5. Generate a random sample of size 1000 from a binomial distribution with probability of success 0.4\n",
    "and plot a histogram of the results using matplotlib."
   ]
  },
  {
   "cell_type": "code",
   "execution_count": 4,
   "id": "13b4351b-f1a7-4120-a827-e23ceec5533d",
   "metadata": {},
   "outputs": [
    {
     "data": {
      "image/png": "[encoded data removed]",
      "text/plain": [
       "<Figure size 640x480 with 1 Axes>"
      ]
     },
     "metadata": {},
     "output_type": "display_data"
    }
   ],
   "source": [
    "import numpy as np \n",
    "import matplotlib.pyplot as plt \n",
    "sample_size=1000\n",
    "probability_success=0.4\n",
    "sample=np.random.binomial(1,probability_success,sample_size)\n",
    "plt.hist(sample,bins=2,rwidth=0.8,align='mid',color='skyblue')\n",
    "plt.xlabel('success')\n",
    "plt.ylabel('frequency')\n",
    "plt.title('binomial distribution : random sample')\n",
    "plt.xticks([0,1] , ['failure' , 'success'])\n",
    "plt.show()"
   ]
  },
  {
   "cell_type": "markdown",
   "id": "380037a6-9b1a-46c8-867c-dbebdd7c49d4",
   "metadata": {},
   "source": [
    "Q6. Write a Python function to calculate the cumulative distribution function of a Poisson distribution\n",
    "with given mean at a given point."
   ]
  },
  {
   "cell_type": "code",
   "execution_count": 6,
   "id": "29b2cf81-0ff7-4fe3-a2ba-5468c9856a7d",
   "metadata": {},
   "outputs": [
    {
     "data": {
      "text/plain": [
       "0.9160820579686966"
      ]
     },
     "execution_count": 6,
     "metadata": {},
     "output_type": "execute_result"
    }
   ],
   "source": [
    "import math \n",
    "import scipy.stats\n",
    "def poisson_cdf(x,mean):\n",
    "    cdf_value = scipy.stats.poisson.cdf(x, mu=mean)\n",
    "    return cdf_value \n",
    "mean=3\n",
    "x=5\n",
    "cdf_value=poisson_cdf(x,mean)\n",
    "cdf_value"
   ]
  },
  {
   "cell_type": "markdown",
   "id": "d0d5d5ab-6176-47bc-9392-2a44583482ad",
   "metadata": {},
   "source": [
    "Q7. How Binomial distribution different from Poisson distribution?"
   ]
  },
  {
   "cell_type": "markdown",
   "id": "c8b64237-2877-4d5c-ab7c-ed088c7c0e5d",
   "metadata": {},
   "source": [
    "The Binomial distribution and the Poisson distribution are both probability distributions used in statistics to model different types of discrete random events. While they are both discrete distributions, they have different characteristics and are used in different scenarios. Here are the key differences between the Binomial and Poisson distributions:\n",
    "\n",
    "Number of Trials:\n",
    "\n",
    "Binomial Distribution: The Binomial distribution is used to model the number of successes (usually denoted as \"k\") in a fixed number of independent and identical trials or experiments (usually denoted as \"n\"). It describes events with a clear binary outcome, such as success/failure, heads/tails, or yes/no.\n",
    "\n",
    "Poisson Distribution: The Poisson distribution, on the other hand, is used to model the number of events that occur within a fixed interval of time or space. It does not specify a fixed number of trials; instead, it describes events occurring in a continuous and random manner.\n",
    "\n",
    "Nature of Events:\n",
    "\n",
    "Binomial Distribution: The Binomial distribution is appropriate for situations where the events are discrete, mutually exclusive, and have a constant probability of success on each trial. Examples include the number of defective items in a batch, the number of heads obtained when flipping a coin multiple times, or the number of successful email responses in a marketing campaign.\n",
    "\n",
    "Poisson Distribution: The Poisson distribution is suitable for modeling rare events or events that occur randomly and independently over time or space. Examples include the number of customer arrivals at a store in an hour, the number of accidents at an intersection in a day, or the number of emails received per hour.\n",
    "\n",
    "Parameters:\n",
    "\n",
    "Binomial Distribution: The Binomial distribution is parameterized by two values: the number of trials (n) and the probability of success on each trial (p).\n",
    "\n",
    "Poisson Distribution: The Poisson distribution is parameterized by a single value, which is the average rate (λ) at which events occur within the specified interval.\n",
    "\n",
    "Probability Mass Function (PMF) vs. Probability Density Function (PDF):\n",
    "\n",
    "Binomial Distribution: The Binomial distribution has a probability mass function (PMF) because it deals with a discrete number of successes. The PMF gives the probability of getting exactly k successes in n trials.\n",
    "\n",
    "Poisson Distribution: The Poisson distribution has a probability density function (PDF) because it deals with the number of events in a continuous interval. The PDF gives the probability of observing a specific number of events within the interval."
   ]
  },
  {
   "cell_type": "markdown",
   "id": "6c42f97d-0c3e-452a-8889-585a11bbf2a5",
   "metadata": {},
   "source": [
    "Q8. Generate a random sample of size 1000 from a Poisson distribution with mean 5 and calculate the\n",
    "sample mean and variance."
   ]
  },
  {
   "cell_type": "code",
   "execution_count": null,
   "id": "ae785128-b811-4bd1-8e25-130498d35be9",
   "metadata": {},
   "outputs": [],
   "source": [
    "import numpy as np \n",
    "mean=5\n",
    "sample_size=1000\n",
    "sample=np.random.poisson(mean,size=sample_size)\n",
    "sample_mean=np.mean(sample)\n",
    "sample_variance=np.var(sample)\n",
    "print(sample_mean)"
   ]
  },
  {
   "cell_type": "code",
   "execution_count": null,
   "id": "70b888b3-2f04-48ce-aae5-822f4a47091e",
   "metadata": {},
   "outputs": [],
   "source": [
    "print(sample_variance)"
   ]
  },
  {
   "cell_type": "markdown",
   "id": "815a29ee-a72d-498b-ab77-e368e52fd6ce",
   "metadata": {},
   "source": [
    "Q9. How mean and variance are related in Binomial distribution and Poisson distribution?"
   ]
  },
  {
   "cell_type": "markdown",
   "id": "923e68b2-c948-429b-973c-1b9d8fa2cdd6",
   "metadata": {},
   "source": [
    "In both the Binomial distribution and the Poisson distribution, the mean and variance are related, but the nature of their relationship differs between the two distributions.\n",
    "\n",
    "For the Binomial distribution:\n",
    "\n",
    "Mean: The mean of a Binomial distribution is given by the product of the number of trials (n) and the probability of success (p), denoted as μ = n * p. Variance: The variance of a Binomial distribution is given by the product of the number of trials (n), the probability of success (p), and the probability of failure (q = 1 - p), denoted as σ^2 = n * p * q. The relationship between the mean and variance in the Binomial distribution is direct and follows the formula σ^2 = μ * q.\n",
    "\n",
    "For the Poisson distribution:\n",
    "\n",
    "Mean: The mean of a Poisson distribution is equal to the parameter λ, which represents the average rate of events occurring in a given time interval or space. Variance: The variance of a Poisson distribution is also equal to the parameter λ. In the Poisson distribution, the mean and variance are both equal to λ, indicating that they have the same value. This relationship is unique to the Poisson distribution.\n",
    "\n",
    "In summary, in the Binomial distribution, the variance depends on both the number of trials and the probability of success, while in the Poisson distribution, the mean and variance are equal and determined solely by the parameter λ."
   ]
  },
  {
   "cell_type": "markdown",
   "id": "80feb4f8-5735-4548-9a9f-9033900c73c1",
   "metadata": {},
   "source": [
    "Q10. In normal distribution with respect to mean position, where does the least frequent data appear?"
   ]
  },
  {
   "cell_type": "markdown",
   "id": "fa1177c1-f8ee-4ca2-ac48-38caa5d7d81c",
   "metadata": {},
   "source": [
    "In a normal distribution (also known as a Gaussian distribution), the data is symmetrically distributed around the mean (average). The least frequent data points, or the extreme values, appear in the tails of the distribution, farthest away from the mean.\n",
    "\n",
    "Specifically, in a normal distribution:\n",
    "\n",
    "The mean (μ) is located at the center of the distribution.\n",
    "The majority of data points are clustered around the mean, where the distribution is highest.\n",
    "As you move away from the mean in either direction (left or right), the frequency of data points decreases.\n",
    "The tails of the distribution, which are the regions farthest from the mean, contain the least frequent data points.\n",
    "In a standard normal distribution (with a mean of 0 and a standard deviation of 1), approximately 68% of the data falls within one standard deviation of the mean, about 95% falls within two standard deviations, and approximately 99.7% falls within three standard deviations. This means that only a very small percentage of data points (about 0.3%) are found in the tails beyond three standard deviations from the mean, making them the least frequent data points."
   ]
  }
 ],
 "metadata": {
  "kernelspec": {
   "display_name": "Python 3 (ipykernel)",
   "language": "python",
   "name": "python3"
  },
  "language_info": {
   "codemirror_mode": {
    "name": "ipython",
    "version": 3
   },
   "file_extension": ".py",
   "mimetype": "text/x-python",
   "name": "python",
   "nbconvert_exporter": "python",
   "pygments_lexer": "ipython3",
   "version": "3.10.8"
  }
 },
 "nbformat": 4,
 "nbformat_minor": 5
}
